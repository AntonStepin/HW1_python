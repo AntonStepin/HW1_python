{
 "cells": [
  {
   "cell_type": "code",
   "execution_count": 9,
   "metadata": {},
   "outputs": [],
   "source": [
    "from sympy import *\n",
    "from sympy.plotting import plot\n",
    "init_printing()\n",
    "x = Symbol(\"x\")"
   ]
  },
  {
   "cell_type": "code",
   "execution_count": 31,
   "metadata": {},
   "outputs": [
    {
     "data": {
      "image/png": "[encoded data removed]",
      "text/plain": [
       "<Figure size 432x288 with 1 Axes>"
      ]
     },
     "metadata": {
      "needs_background": "light"
     },
     "output_type": "display_data"
    }
   ],
   "source": [
    "y=x**2-6*x+8\n",
    "user_plot = plot(y)"
   ]
  },
  {
   "cell_type": "code",
   "execution_count": 12,
   "metadata": {},
   "outputs": [
    {
     "data": {
      "image/png": "[encoded data removed]",
      "text/latex": [
       "$\\displaystyle \\left[ 2, \\  4\\right]$"
      ],
      "text/plain": [
       "[2, 4]"
      ]
     },
     "execution_count": 12,
     "metadata": {},
     "output_type": "execute_result"
    }
   ],
   "source": [
    "solve(y)"
   ]
  },
  {
   "cell_type": "code",
   "execution_count": 23,
   "metadata": {},
   "outputs": [
    {
     "data": {
      "image/png": "[encoded data removed]",
      "text/latex": [
       "$\\displaystyle 2 x - 6$"
      ],
      "text/plain": [
       "2⋅x - 6"
      ]
     },
     "execution_count": 23,
     "metadata": {},
     "output_type": "execute_result"
    }
   ],
   "source": [
    "diff(y)\n"
   ]
  },
  {
   "cell_type": "code",
   "execution_count": 15,
   "metadata": {},
   "outputs": [
    {
     "name": "stdout",
     "output_type": "stream",
     "text": [
      "функция убывает на промежутке Interval(-oo, 3)\n"
     ]
    }
   ],
   "source": [
    "roots = solve(diff(y))\n",
    "if len(roots) == 1:\n",
    "    root = roots.pop()\n",
    "    if is_increasing(y,Interval(-100, root)):\n",
    "        print (f\"функция возврастает на промежутке {Interval(-oo, root)}\")\n",
    "    else:\n",
    "        print (f\"функция убывает на промежутке {Interval(-oo, root)}\")                                                    \n",
    "    \n"
   ]
  },
  {
   "cell_type": "code",
   "execution_count": 16,
   "metadata": {},
   "outputs": [
    {
     "name": "stdout",
     "output_type": "stream",
     "text": [
      "функция возврастает на промежутке Interval(3, oo)\n"
     ]
    }
   ],
   "source": [
    "roots = solve(diff(y))\n",
    "if len(roots) == 1:\n",
    "    root = roots.pop()\n",
    "    if is_increasing(y,Interval(root, oo)):\n",
    "        print (f\"функция возврастает на промежутке {Interval(root, oo)}\")\n",
    "    else:\n",
    "        print (f\"функция убывает на промежутке {Interval(root, oo)}\")"
   ]
  },
  {
   "cell_type": "code",
   "execution_count": 54,
   "metadata": {},
   "outputs": [
    {
     "name": "stdout",
     "output_type": "stream",
     "text": [
      "Вершина функции [x:1, y: 3]\n"
     ]
    }
   ],
   "source": [
    "# x0 = 6/(2*1)\n",
    "x0 = 1\n",
    "y0 = 1*x0**2-6*x0+8\n",
    "print (f\"Вершина функции [x:{x0}, y: {y0}]\")"
   ]
  },
  {
   "cell_type": "code",
   "execution_count": 91,
   "metadata": {},
   "outputs": [
    {
     "name": "stdout",
     "output_type": "stream",
     "text": [
      "Функция больше нуля на промежутке [-oo, 2]\n",
      "Функция меньше нуля на промежутке [2, 4]\n",
      "Функция больше нуля на промежутке [4, +oo]\n"
     ]
    }
   ],
   "source": [
    "up = roots = solve(diff(y))\n",
    "roots_x = solve(y)\n",
    "up_count = 0\n",
    "for i in range (0,len(roots_x)):\n",
    "    if is_increasing(y,Interval(roots_x[i], up[up_count])):\n",
    "        if i == 0:\n",
    "            print (f\"Функция меньше нуля на промежутке [-oo, {roots_x[i]}]\")\n",
    "            print (f\"Функция больше нуля на промежутке [{roots_x[i]}, {roots_x[i+1]}]\")\n",
    "        elif i>0 and i<len(roots_x)-1:\n",
    "            print (f\"Функция больше нуля на промежутке [{roots_x[i]}, {roots_x[i+1]}]\")\n",
    "        if i == len(roots_x)-1:\n",
    "            print (f\"Функция больше нуля на промежутке [{roots_x[i]}, +oo]\")\n",
    "    else:\n",
    "        if i == 0:\n",
    "            print (f\"Функция больше нуля на промежутке [-oo, {roots_x[i]}]\")\n",
    "            print (f\"Функция меньше нуля на промежутке [{roots_x[i]}, {roots_x[i+1]}]\")\n",
    "        elif i>0 and i<len(roots_x)-1: \n",
    "            print (f\"Функция меньше нуля на промежутке [{roots_x[i]}, {roots_x[i+1]}]\")\n",
    "        if i == len(roots_x)-1:\n",
    "            print (f\"Функция меньше нуля на промежутке [{roots_x[i]}, +oo]\")\n",
    "    if len(up)>1: up_count+1\n",
    "# Можно и лист кортежей составить с координатами.."
   ]
  }
 ],
 "metadata": {
  "kernelspec": {
   "display_name": "Python 3 (ipykernel)",
   "language": "python",
   "name": "python3"
  },
  "language_info": {
   "codemirror_mode": {
    "name": "ipython",
    "version": 3
   },
   "file_extension": ".py",
   "mimetype": "text/x-python",
   "name": "python",
   "nbconvert_exporter": "python",
   "pygments_lexer": "ipython3",
   "version": "3.9.12"
  }
 },
 "nbformat": 4,
 "nbformat_minor": 4
}
